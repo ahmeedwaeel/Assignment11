{
 "cells": [
  {
   "cell_type": "code",
   "execution_count": 8,
   "id": "1653fdca",
   "metadata": {},
   "outputs": [
    {
     "name": "stdout",
     "output_type": "stream",
     "text": [
      "0.24217171361651332\n"
     ]
    }
   ],
   "source": [
    "def tanh_activation(x):\n",
    "    return (2 / (1+ (2.71828 ** (-2 * x))))  \n",
    "\n",
    "\n",
    "\n",
    "\n",
    "b1, b2 = 0.5, 0.7\n",
    "x1, x2 = 0.2, -0.3\n",
    "\n",
    "\n",
    "\n",
    "\n",
    "w1, w2, w3, w4, w5, w6 = [simple_random(seed + i) for i in range(6)]\n",
    "\n",
    "\n",
    "\n",
    "\n",
    "h1, h2 = tanh(x1 * w1 + x2 * w2 + b1), tanh(x1 * w3 + x2 * w4 + b1)\n",
    "output = tanh(h1 * w5 + h2 * w6 + b2)\n",
    "\n",
    "\n",
    "\n",
    "\n",
    "print(output)"
   ]
  },
  {
   "cell_type": "code",
   "execution_count": null,
   "id": "8db17662",
   "metadata": {},
   "outputs": [],
   "source": []
  }
 ],
 "metadata": {
  "kernelspec": {
   "display_name": "Python 3 (ipykernel)",
   "language": "python",
   "name": "python3"
  },
  "language_info": {
   "codemirror_mode": {
    "name": "ipython",
    "version": 3
   },
   "file_extension": ".py",
   "mimetype": "text/x-python",
   "name": "python",
   "nbconvert_exporter": "python",
   "pygments_lexer": "ipython3",
   "version": "3.11.5"
  }
 },
 "nbformat": 4,
 "nbformat_minor": 5
}
